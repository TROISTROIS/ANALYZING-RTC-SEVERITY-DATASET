{
 "cells": [
  {
   "cell_type": "markdown",
   "id": "aeb49315",
   "metadata": {},
   "source": [
    "# ANALYZING RTC SEVERITY DATASET\n",
    "In this project, we are analyzing rioad accident data in order to answer the following questions:\n",
    "1. When do most road accidents occur? What hour?\n",
    "2. Which roads lead to major road accidents.\n",
    "3. Which vehicles lead to fatal or serious accidents?"
   ]
  },
  {
   "cell_type": "code",
   "execution_count": null,
   "id": "f3ad17ee",
   "metadata": {},
   "outputs": [],
   "source": [
    "import csv\n",
    "import datetime as dt"
   ]
  },
  {
   "cell_type": "code",
   "execution_count": 3,
   "id": "ddb7cccf",
   "metadata": {},
   "outputs": [],
   "source": [
    "# read the csv file\n",
    "with open(\"C://Users//user//Downloads//accident_data.csv\") as file:\n",
    "    rows=list(csv.reader(file))"
   ]
  },
  {
   "cell_type": "code",
   "execution_count": 6,
   "id": "06b447cb",
   "metadata": {},
   "outputs": [
    {
     "name": "stdout",
     "output_type": "stream",
     "text": [
      "[['Accident_Index', '1st_Road_Class', '1st_Road_Number', '2nd_Road_Class', '2nd_Road_Number', 'Accident_Severity', 'Carriageway_Hazards', 'Date', 'Day_of_Week', 'Did_Police_Officer_Attend_Scene_of_Accident', 'Junction_Control', 'Junction_Detail', 'Latitude', 'Light_Conditions', 'Local_Authority_(District)', 'Local_Authority_(Highway)', 'Location_Easting_OSGR', 'Location_Northing_OSGR', 'Longitude', 'LSOA_of_Accident_Location', 'Number_of_Casualties', 'Number_of_Vehicles', 'Pedestrian_Crossing-Human_Control', 'Pedestrian_Crossing-Physical_Facilities', 'Police_Force', 'Road_Surface_Conditions', 'Road_Type', 'Special_Conditions_at_Site', 'Speed_limit', 'Time', 'Urban_or_Rural_Area', 'Weather_Conditions', 'Year', 'InScotland'], ['200501BS00001', 'A', '3218', '', '0', 'Serious', 'None', '04/01/2005', 'Tuesday', '1', 'Data missing or out of range', 'Not at junction or within 20 metres', '51.489096', '', 'Kensington and Chelsea', 'Kensington and Chelsea', '525680', '178240', '-0.19117', 'E01002849', '1', '1', '0', '1', 'Metropolitan Police', 'Wet or damp', 'Single carriageway', 'None', '30', '17:42', 'Urban', 'Raining no high winds', '2005', 'No'], ['200501BS00002', 'B', '450', 'C', '0', 'Slight', 'None', '05/01/2005', 'Wednesday', '1', 'Auto traffic signal', 'Crossroads', '51.520075', 'Darkness - lights lit', 'Kensington and Chelsea', 'Kensington and Chelsea', '524170', '181650', '-0.211708', 'E01002909', '1', '1', '0', '5', 'Metropolitan Police', 'Dry', 'Dual carriageway', 'None', '30', '17:36', 'Urban', 'Fine no high winds', '2005', 'No'], ['200501BS00003', 'C', '0', '', '0', 'Slight', 'None', '06/01/2005', 'Thursday', '1', 'Data missing or out of range', 'Not at junction or within 20 metres', '51.525301', 'Darkness - lights lit', 'Kensington and Chelsea', 'Kensington and Chelsea', '524520', '182240', '-0.206458', 'E01002857', '1', '2', '0', '0', 'Metropolitan Police', 'Dry', 'Single carriageway', 'None', '30', '00:15', 'Urban', 'Fine no high winds', '2005', 'No'], ['200501BS00004', 'A', '3220', '', '0', 'Slight', 'None', '07/01/2005', 'Friday', '1', 'Data missing or out of range', 'Not at junction or within 20 metres', '51.482442', '', 'Kensington and Chelsea', 'Kensington and Chelsea', '526900', '177530', '-0.173862', 'E01002840', '1', '1', '0', '0', 'Metropolitan Police', 'Dry', 'Single carriageway', 'None', '30', '10:35', 'Urban', 'Fine no high winds', '2005', 'No']]\n"
     ]
    }
   ],
   "source": [
    "print(rows[:5])"
   ]
  },
  {
   "cell_type": "code",
   "execution_count": 7,
   "id": "c26ef005-2934-44e7-922b-2a4752e20869",
   "metadata": {},
   "outputs": [
    {
     "name": "stdout",
     "output_type": "stream",
     "text": [
      "34\n"
     ]
    }
   ],
   "source": [
    "header = rows[0]\n",
    "print(len(header))"
   ]
  },
  {
   "cell_type": "code",
   "execution_count": 8,
   "id": "923dc4c9-bddd-4a87-b066-6e6f001dc65c",
   "metadata": {
    "scrolled": true
   },
   "outputs": [
    {
     "name": "stdout",
     "output_type": "stream",
     "text": [
      "[['201091NM01760', 'A', '95', '', '0', 'Slight', 'None', '18/02/2010', 'Thursday', '1', 'Data missing or out of range', 'Not at junction or within 20 metres', '57.374005', 'Daylight', 'Highland', 'Highland', '311830', '832450', '-3.467828', '', '2', '1', '0', '0', 'Northern', 'Dry', 'Single carriageway', 'None', '60', '07:00', 'Rural', 'Fine no high winds', '2010', 'Yes'], ['201091NM01881', 'A', '95', '', '0', 'Slight', 'None', '21/02/2010', 'Sunday', '1', 'Data missing or out of range', 'Not at junction or within 20 metres', '57.232273', 'Darkness - no lighting', 'Highland', 'Highland', '290880', '817170', '-3.809281', '', '1', '1', '0', '0', 'Northern', 'Frost or ice', 'Single carriageway', 'None', '60', '03:00', 'Rural', 'Fine no high winds', '2010', 'Yes'], ['201091NM01935', 'A', '96', 'Unclassified', '0', 'Slight', 'None', '23/02/2010', 'Tuesday', '1', 'Give way or uncontrolled', 'T or staggered junction', '57.585044', 'Daylight', 'Highland', 'Highland', '288730', '856520', '-3.862727', '', '1', '3', '0', '0', 'Northern', 'Frost or ice', 'Single carriageway', 'None', '30', '09:38', 'Rural', 'Fine no high winds', '2010', 'Yes'], ['201091NM01964', 'A', '9', 'Unclassified', '0', 'Serious', 'None', '23/02/2010', 'Tuesday', '1', 'Give way or uncontrolled', 'T or staggered junction', '57.214898', 'Darkness - no lighting', 'Highland', 'Highland', '289940', '815260', '-3.823997', '', '1', '2', '0', '0', 'Northern', 'Wet or damp', 'Single carriageway', 'None', '60', '18:25', 'Rural', 'Fine no high winds', '2010', 'Yes'], ['201091NM02142', '', '0', 'Unclassified', '0', 'Serious', 'Other object on road', '28/02/2010', 'Sunday', '1', 'Give way or uncontrolled', 'T or staggered junction', '57.57521', 'Daylight', 'Highland', 'Highland', '286730', '855480', '-3.895673', '', '1', '1', '0', '0', 'Northern', 'Wet or damp', 'Dual carriageway', 'None', '60', '15:45', 'Rural', 'Snowing no high winds', '2010', 'Yes']]\n"
     ]
    }
   ],
   "source": [
    "data = rows[1:]\n",
    "print(rows[-5:])"
   ]
  },
  {
   "cell_type": "code",
   "execution_count": null,
   "id": "da67c69b",
   "metadata": {},
   "outputs": [],
   "source": []
  },
  {
   "cell_type": "code",
   "execution_count": null,
   "id": "5f7fa661-8c43-4585-9374-ace54a3c3e74",
   "metadata": {},
   "outputs": [],
   "source": []
  }
 ],
 "metadata": {
  "kernelspec": {
   "display_name": "Python 3 (ipykernel)",
   "language": "python",
   "name": "python3"
  },
  "language_info": {
   "codemirror_mode": {
    "name": "ipython",
    "version": 3
   },
   "file_extension": ".py",
   "mimetype": "text/x-python",
   "name": "python",
   "nbconvert_exporter": "python",
   "pygments_lexer": "ipython3",
   "version": "3.9.12"
  }
 },
 "nbformat": 4,
 "nbformat_minor": 5
}
