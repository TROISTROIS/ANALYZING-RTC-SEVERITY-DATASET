{
 "cells": [
  {
   "cell_type": "markdown",
   "id": "fd654acd",
   "metadata": {},
   "source": [
    "# ANALYZING RTC SEVERITY DATASET\n",
    "In this project, we are analyzing rioad accident data in order to answer the following questions:\n",
    "1. When do most road accidents occur? What hour?\n",
    "2. Which roads lead to major road accidents.\n",
    "3. Which vehicles lead to fatal or serious accidents?"
   ]
  },
  {
   "cell_type": "code",
   "execution_count": 68,
   "id": "79d2c7de",
   "metadata": {},
   "outputs": [],
   "source": [
    "import csv\n",
    "import datetime as dt"
   ]
  },
  {
   "cell_type": "code",
   "execution_count": 69,
   "id": "ddb7cccf",
   "metadata": {},
   "outputs": [],
   "source": [
    "# read the csv file\n",
    "with open(\"C://Users//user//Downloads//accident_data.csv\") as file:\n",
    "    rows=list(csv.reader(file))"
   ]
  },
  {
   "cell_type": "code",
   "execution_count": 70,
   "id": "fe7f01f1",
   "metadata": {},
   "outputs": [
    {
     "name": "stdout",
     "output_type": "stream",
     "text": [
      "[['Accident_Index', '1st_Road_Class', '1st_Road_Number', '2nd_Road_Class', '2nd_Road_Number', 'Accident_Severity', 'Carriageway_Hazards', 'Date', 'Day_of_Week', 'Did_Police_Officer_Attend_Scene_of_Accident', 'Junction_Control', 'Junction_Detail', 'Latitude', 'Light_Conditions', 'Local_Authority_(District)', 'Local_Authority_(Highway)', 'Location_Easting_OSGR', 'Location_Northing_OSGR', 'Longitude', 'LSOA_of_Accident_Location', 'Number_of_Casualties', 'Number_of_Vehicles', 'Pedestrian_Crossing-Human_Control', 'Pedestrian_Crossing-Physical_Facilities', 'Police_Force', 'Road_Surface_Conditions', 'Road_Type', 'Special_Conditions_at_Site', 'Speed_limit', 'Time', 'Urban_or_Rural_Area', 'Weather_Conditions', 'Year', 'InScotland'], ['200501BS00001', 'A', '3218', '', '0', 'Serious', 'None', '04/01/2005', 'Tuesday', '1', 'Data missing or out of range', 'Not at junction or within 20 metres', '51.489096', '', 'Kensington and Chelsea', 'Kensington and Chelsea', '525680', '178240', '-0.19117', 'E01002849', '1', '1', '0', '1', 'Metropolitan Police', 'Wet or damp', 'Single carriageway', 'None', '30', '17:42', 'Urban', 'Raining no high winds', '2005', 'No'], ['200501BS00002', 'B', '450', 'C', '0', 'Slight', 'None', '05/01/2005', 'Wednesday', '1', 'Auto traffic signal', 'Crossroads', '51.520075', 'Darkness - lights lit', 'Kensington and Chelsea', 'Kensington and Chelsea', '524170', '181650', '-0.211708', 'E01002909', '1', '1', '0', '5', 'Metropolitan Police', 'Dry', 'Dual carriageway', 'None', '30', '17:36', 'Urban', 'Fine no high winds', '2005', 'No'], ['200501BS00003', 'C', '0', '', '0', 'Slight', 'None', '06/01/2005', 'Thursday', '1', 'Data missing or out of range', 'Not at junction or within 20 metres', '51.525301', 'Darkness - lights lit', 'Kensington and Chelsea', 'Kensington and Chelsea', '524520', '182240', '-0.206458', 'E01002857', '1', '2', '0', '0', 'Metropolitan Police', 'Dry', 'Single carriageway', 'None', '30', '00:15', 'Urban', 'Fine no high winds', '2005', 'No'], ['200501BS00004', 'A', '3220', '', '0', 'Slight', 'None', '07/01/2005', 'Friday', '1', 'Data missing or out of range', 'Not at junction or within 20 metres', '51.482442', '', 'Kensington and Chelsea', 'Kensington and Chelsea', '526900', '177530', '-0.173862', 'E01002840', '1', '1', '0', '0', 'Metropolitan Police', 'Dry', 'Single carriageway', 'None', '30', '10:35', 'Urban', 'Fine no high winds', '2005', 'No']]\n"
     ]
    }
   ],
   "source": [
    "print(rows[:5])"
   ]
  },
  {
   "cell_type": "code",
   "execution_count": 71,
   "id": "c26ef005-2934-44e7-922b-2a4752e20869",
   "metadata": {},
   "outputs": [
    {
     "name": "stdout",
     "output_type": "stream",
     "text": [
      "34\n"
     ]
    }
   ],
   "source": [
    "header = rows[0]\n",
    "print(len(header))"
   ]
  },
  {
   "cell_type": "code",
   "execution_count": 72,
   "id": "923dc4c9-bddd-4a87-b066-6e6f001dc65c",
   "metadata": {
    "scrolled": true
   },
   "outputs": [
    {
     "name": "stdout",
     "output_type": "stream",
     "text": [
      "34\n"
     ]
    }
   ],
   "source": [
    "data = rows[1:]\n",
    "print(len(data[0]))"
   ]
  },
  {
   "cell_type": "code",
   "execution_count": 73,
   "id": "32905f62",
   "metadata": {},
   "outputs": [],
   "source": [
    "# function to explore the dataset to find out how many rows and columns there are\n",
    "def explore_dataset(dataset, start, end, rows_columns = False):\n",
    "    dataset_slice = dataset[start:end]\n",
    "    for row in dataset_slice:\n",
    "        print(row)\n",
    "        print(\"\\n\")\n",
    "    if rows_columns:\n",
    "        print(\"Number of rows\",len(dataset))\n",
    "        print(\"Number of columns\", len(dataset[0]))"
   ]
  },
  {
   "cell_type": "code",
   "execution_count": 74,
   "id": "175d0c55",
   "metadata": {},
   "outputs": [
    {
     "name": "stdout",
     "output_type": "stream",
     "text": [
      "['200501BS00001', 'A', '3218', '', '0', 'Serious', 'None', '04/01/2005', 'Tuesday', '1', 'Data missing or out of range', 'Not at junction or within 20 metres', '51.489096', '', 'Kensington and Chelsea', 'Kensington and Chelsea', '525680', '178240', '-0.19117', 'E01002849', '1', '1', '0', '1', 'Metropolitan Police', 'Wet or damp', 'Single carriageway', 'None', '30', '17:42', 'Urban', 'Raining no high winds', '2005', 'No']\n",
      "\n",
      "\n",
      "['200501BS00002', 'B', '450', 'C', '0', 'Slight', 'None', '05/01/2005', 'Wednesday', '1', 'Auto traffic signal', 'Crossroads', '51.520075', 'Darkness - lights lit', 'Kensington and Chelsea', 'Kensington and Chelsea', '524170', '181650', '-0.211708', 'E01002909', '1', '1', '0', '5', 'Metropolitan Police', 'Dry', 'Dual carriageway', 'None', '30', '17:36', 'Urban', 'Fine no high winds', '2005', 'No']\n",
      "\n",
      "\n",
      "['200501BS00003', 'C', '0', '', '0', 'Slight', 'None', '06/01/2005', 'Thursday', '1', 'Data missing or out of range', 'Not at junction or within 20 metres', '51.525301', 'Darkness - lights lit', 'Kensington and Chelsea', 'Kensington and Chelsea', '524520', '182240', '-0.206458', 'E01002857', '1', '2', '0', '0', 'Metropolitan Police', 'Dry', 'Single carriageway', 'None', '30', '00:15', 'Urban', 'Fine no high winds', '2005', 'No']\n",
      "\n",
      "\n",
      "Number of rows 1048575\n",
      "Number of columns 34\n"
     ]
    }
   ],
   "source": [
    "explore_dataset(data, 0,3,True)"
   ]
  },
  {
   "cell_type": "code",
   "execution_count": 75,
   "id": "029c25da",
   "metadata": {},
   "outputs": [],
   "source": [
    "# check for wrong data in my lists of lists\n",
    "def check_wrong_data(mylist):\n",
    "    for row in mylist:\n",
    "        header_length = len(header)\n",
    "        row_length = len(row)\n",
    "        if row_length != header_length:\n",
    "            print(row)\n",
    "            print(data.index(row)) "
   ]
  },
  {
   "cell_type": "code",
   "execution_count": 76,
   "id": "5f7fa661-8c43-4585-9374-ace54a3c3e74",
   "metadata": {},
   "outputs": [],
   "source": [
    "check_wrong_data(data)"
   ]
  },
  {
   "cell_type": "code",
   "execution_count": 77,
   "id": "84441d8f",
   "metadata": {},
   "outputs": [
    {
     "name": "stdout",
     "output_type": "stream",
     "text": [
      "['A', 'B', 'C', '', 'Motorway', 'A(M)']\n"
     ]
    }
   ],
   "source": [
    "roadtypes = []\n",
    "for row in data:\n",
    "    road_type = row[1]\n",
    "    if road_type not in roadtypes:\n",
    "        roadtypes.append(road_type)\n",
    "print(roadtypes)"
   ]
  },
  {
   "cell_type": "code",
   "execution_count": 78,
   "id": "de3ca7d9",
   "metadata": {},
   "outputs": [
    {
     "name": "stdout",
     "output_type": "stream",
     "text": [
      "There are 0 duplicate entries\n"
     ]
    }
   ],
   "source": [
    "# check for duplicates\n",
    "duplicate_entries = []\n",
    "unique_entries = []\n",
    "for row in data:\n",
    "    accident_id = row[0]\n",
    "    if accident_id in unique_entries:\n",
    "        date_day_dicticate_entries.append(accident_id)\n",
    "#     else:\n",
    "#         unique_entries.append(accident_id)\n",
    "# len_unique_entries = len(unique_entries)\n",
    "len_duplicate_entries = len(duplicate_entries)\n",
    "# example_duplicate = duplicate_entries[3:5]\n",
    "# print(\"There are\", len_unique_entries, \"unique entries\")\n",
    "print(\"There are\", len_duplicate_entries, \"duplicate entries\")\n",
    "# print(example_duplicate)\n",
    "#     return len_duplicate_entries, len_unique_entries, example_duplicate\n",
    "# len_duplicate_entries, len_unique_entries, example_duplicate = check_duplicates(data)\n",
    "# print(\n",
    "#     f\"Number of duplicate entries {len_duplicate_entries}\\n\"\n",
    "#     f\"Number of unique entries  {len_unique_entries}\\n\"\n",
    "#     f\"Examples of duplicate entries {example_duplicate}\\n\"\n",
    "#      )"
   ]
  },
  {
   "cell_type": "code",
   "execution_count": 79,
   "id": "518c0e5b",
   "metadata": {},
   "outputs": [],
   "source": [
    "# fill in the empty strings with the string(unknown Data)\n",
    "def fill_missing_strings(i):\n",
    "    for row in data:\n",
    "        col = row[i]\n",
    "        col = col.title()\n",
    "        if not col:\n",
    "            col = \"Unknown Data\"\n",
    "        row[i] = col"
   ]
  },
  {
   "cell_type": "code",
   "execution_count": 80,
   "id": "f38cda63",
   "metadata": {},
   "outputs": [
    {
     "name": "stdout",
     "output_type": "stream",
     "text": [
      "[['200501Bs00003', 'C', '0', 'Unknown Data', '0', 'Slight', 'None', '06/01/2005', 'Thursday', '1', 'Data Missing Or Out Of Range', 'Not At Junction Or Within 20 Metres', '51.525301', 'Darkness - Lights Lit', 'Kensington And Chelsea', 'Kensington And Chelsea', '524520', '182240', '-0.206458', 'E01002857', '1', '2', '0', '0', 'Metropolitan Police', 'Dry', 'Single Carriageway', 'None', '30', '00:15', 'Urban', 'Fine No High Winds', '2005', 'No'], ['200501Bs00004', 'A', '3220', 'Unknown Data', '0', 'Slight', 'None', '07/01/2005', 'Friday', '1', 'Data Missing Or Out Of Range', 'Not At Junction Or Within 20 Metres', '51.482442', 'Unknown Data', 'Kensington And Chelsea', 'Kensington And Chelsea', '526900', '177530', '-0.173862', 'E01002840', '1', '1', '0', '0', 'Metropolitan Police', 'Dry', 'Single Carriageway', 'None', '30', '10:35', 'Urban', 'Fine No High Winds', '2005', 'No'], ['200501Bs00005', 'Unknown Data', '0', 'Unknown Data', '0', 'Slight', 'None', '10/01/2005', 'Monday', '1', 'Data Missing Or Out Of Range', 'Not At Junction Or Within 20 Metres', '51.495752', 'Darkness - Lighting Unknown', 'Kensington And Chelsea', 'Kensington And Chelsea', '528060', '179040', '-0.156618', 'E01002863', '1', '1', '0', '0', 'Metropolitan Police', 'Wet Or Damp', 'Single Carriageway', 'None', '30', '21:13', 'Urban', 'Fine No High Winds', '2005', 'No']]\n"
     ]
    }
   ],
   "source": [
    "for i in range(len(header)):\n",
    "    fill_missing_strings(i)\n",
    "print(data[2:5])"
   ]
  },
  {
   "cell_type": "code",
   "execution_count": 81,
   "id": "424d31c3",
   "metadata": {},
   "outputs": [
    {
     "name": "stdout",
     "output_type": "stream",
     "text": [
      "The index of Date column is  7\n",
      "The index of Time column is  29\n",
      "The index of Year column is  32\n"
     ]
    }
   ],
   "source": [
    "# get the index of date column\n",
    "print(\"The index of Date column is \",header.index(\"Date\"))\n",
    "print(\"The index of Time column is \",header.index(\"Time\"))\n",
    "print(\"The index of Year column is \",header.index(\"Year\"))"
   ]
  },
  {
   "cell_type": "code",
   "execution_count": 82,
   "id": "419e24d3",
   "metadata": {},
   "outputs": [
    {
     "name": "stdout",
     "output_type": "stream",
     "text": [
      "<class 'str'>\n"
     ]
    }
   ],
   "source": [
    "for row in data:\n",
    "    myyear = row[32]\n",
    "print(type(myyear))"
   ]
  },
  {
   "cell_type": "code",
   "execution_count": null,
   "id": "aeab96e4",
   "metadata": {},
   "outputs": [],
   "source": [
    "# parse strings as dates\n",
    "for row in data:\n",
    "    mydates = row[7]\n",
    "    mydates = dt.datetime.strptime(mydates, \"%d/%m/%Y\").date()\n",
    "    row[7] = mydates\n",
    "    \n",
    "    mytime = row[29]\n",
    "#     replace Unknown Data Time with 00:00\n",
    "    mytime=mytime.replace(\"Unknown Data\",\"00:00\")\n",
    "    mytime = dt.datetime.strptime(mytime, \"%H:%M\").time()\n",
    "    row[29] = mytime\n",
    "    \n",
    "    myyear = row[32]\n",
    "    myyear = dt.datetime.strptime(myyear, \"%Y\").year\n",
    "    row[32] = myyear\n",
    "    \n",
    "print(type(row[7]))\n",
    "print(type(row[29]))\n",
    "print(type(row[32]))"
   ]
  },
  {
   "cell_type": "code",
   "execution_count": null,
   "id": "8320e52f",
   "metadata": {},
   "outputs": [],
   "source": [
    "dates_1 = []\n",
    "day_1 = []\n",
    "for row in data:    \n",
    "    mydate = row[7]\n",
    "    dates_1.append(mydate)\n",
    "    day_of_week = row[8]\n",
    "    day_1.append(day_of_week)\n",
    "print(len(dates_1))\n",
    "print(len(day_1))\n",
    "\n",
    "# Using the `zip` function to combine the two lists into a list of tuples\n",
    "date_data = list(zip(dates_1, day_1))\n",
    "\n",
    "# Converting the list of tuples to a dictionary\n",
    "date_dict = dict(date_data)\n",
    "# print the first few elements of the dictionary \n",
    "first_five = dict(list(date_dict.items())[:4])\n",
    "print(first_five) # Output: {'John': 25, 'Jane': 30}\n",
    "\n",
    "# Converting the dictionary to a list of dictionaries\n",
    "dict_list = [{'Date': key, 'Day Of Week': value} for key, value in date_dict.items()]\n",
    "print(dict_list[2:5])\n",
    "# for i in range(len(mydate)):\n",
    "#     date_day_dict[mydate[i]] = day_of_week[i]\n",
    "\n",
    "# print(date_day_dict)"
   ]
  },
  {
   "cell_type": "code",
   "execution_count": null,
   "id": "346dc80a",
   "metadata": {
    "scrolled": true
   },
   "outputs": [],
   "source": [
    "print(data[100:104])"
   ]
  },
  {
   "cell_type": "code",
   "execution_count": null,
   "id": "8b609318",
   "metadata": {},
   "outputs": [],
   "source": [
    "# # check whether the day of the week is correct in our data\n",
    "# data_copy = data.copy()\n",
    "# for row in data_copy:    \n",
    "#     mydate = row[7]\n",
    "#     mydate = mydate.strftime(\"%d/%b/%Y\")\n",
    "#     row[7] = mydate\n",
    "#     day_of_week = row[8]\n",
    "# print(len(mydate))\n",
    "# print(len(day_of_week))\n",
    "# # #     date_day_dict = {}\n",
    "# # #     for i in range(len(mydate)):\n",
    "# # #         date_day_dict[mydate[i]] = day_of_week[i]\n",
    "\n",
    "# # # print(date_day_dict)"
   ]
  },
  {
   "cell_type": "code",
   "execution_count": null,
   "id": "b9a22848",
   "metadata": {},
   "outputs": [],
   "source": [
    "# def check_date_day_of_week_match(date_string, day_of_week):\n",
    "#     days_of_week = ['Monday', 'Tuesday', 'Wednesday', 'Thursday', 'Friday', 'Saturday', 'Sunday']\n",
    "#     date = datetime.strptime(date_string, '%Y-%m-%d')\n",
    "#     return days_of_week[date.weekday()] == day_of_week\n",
    "\n",
    "# # Assuming your data is a list of dictionaries\n",
    "# data = [{'date': '2022-01-01', 'day_of_week': 'Saturday'},\n",
    "#         {'date': '2022-01-02', 'day_of_week': 'Sunday'},\n",
    "#         {'date': '2022-01-03', 'day_of_week': 'Monday'}]\n",
    "\n",
    "# # Checking if every date in the date column corresponds to the day of week provided in the day of week column\n",
    "# matches = [check_date_day_of_week_match(row['date'], row['day_of_week']) for row in data]\n",
    "\n",
    "# # Printing the result\n",
    "# print(matches) # Output: [True, True, True]\n"
   ]
  }
 ],
 "metadata": {
  "kernelspec": {
   "display_name": "Python 3 (ipykernel)",
   "language": "python",
   "name": "python3"
  },
  "language_info": {
   "codemirror_mode": {
    "name": "ipython",
    "version": 3
   },
   "file_extension": ".py",
   "mimetype": "text/x-python",
   "name": "python",
   "nbconvert_exporter": "python",
   "pygments_lexer": "ipython3",
   "version": "3.9.12"
  }
 },
 "nbformat": 4,
 "nbformat_minor": 5
}
