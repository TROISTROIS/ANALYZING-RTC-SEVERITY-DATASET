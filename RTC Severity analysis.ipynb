{
 "cells": [
  {
   "cell_type": "markdown",
   "id": "fd654acd",
   "metadata": {},
   "source": [
    "# ANALYZING RTC SEVERITY DATASET\n",
    "In this project, we are analyzing rioad accident data in order to answer the following questions:\n",
    "1. When do most road accidents occur? What hour?\n",
    "2. Which roads lead to major road accidents.\n",
    "3. Which vehicles lead to fatal or serious accidents?"
   ]
  },
  {
   "cell_type": "code",
   "execution_count": 1,
   "id": "79d2c7de",
   "metadata": {},
   "outputs": [],
   "source": [
    "import csv\n",
    "import datetime as dt"
   ]
  },
  {
   "cell_type": "code",
   "execution_count": 2,
   "id": "ddb7cccf",
   "metadata": {},
   "outputs": [],
   "source": [
    "# read the csv file\n",
    "with open(\"C://Users//user//Downloads//accident_data.csv\") as file:\n",
    "    rows=list(csv.reader(file))"
   ]
  },
  {
   "cell_type": "code",
   "execution_count": 3,
   "id": "fe7f01f1",
   "metadata": {},
   "outputs": [
    {
     "name": "stdout",
     "output_type": "stream",
     "text": [
      "[['Accident_Index', '1st_Road_Class', '1st_Road_Number', '2nd_Road_Class', '2nd_Road_Number', 'Accident_Severity', 'Carriageway_Hazards', 'Date', 'Day_of_Week', 'Did_Police_Officer_Attend_Scene_of_Accident', 'Junction_Control', 'Junction_Detail', 'Latitude', 'Light_Conditions', 'Local_Authority_(District)', 'Local_Authority_(Highway)', 'Location_Easting_OSGR', 'Location_Northing_OSGR', 'Longitude', 'LSOA_of_Accident_Location', 'Number_of_Casualties', 'Number_of_Vehicles', 'Pedestrian_Crossing-Human_Control', 'Pedestrian_Crossing-Physical_Facilities', 'Police_Force', 'Road_Surface_Conditions', 'Road_Type', 'Special_Conditions_at_Site', 'Speed_limit', 'Time', 'Urban_or_Rural_Area', 'Weather_Conditions', 'Year', 'InScotland'], ['200501BS00001', 'A', '3218', '', '0', 'Serious', 'None', '04/01/2005', 'Tuesday', '1', 'Data missing or out of range', 'Not at junction or within 20 metres', '51.489096', '', 'Kensington and Chelsea', 'Kensington and Chelsea', '525680', '178240', '-0.19117', 'E01002849', '1', '1', '0', '1', 'Metropolitan Police', 'Wet or damp', 'Single carriageway', 'None', '30', '17:42', 'Urban', 'Raining no high winds', '2005', 'No'], ['200501BS00002', 'B', '450', 'C', '0', 'Slight', 'None', '05/01/2005', 'Wednesday', '1', 'Auto traffic signal', 'Crossroads', '51.520075', 'Darkness - lights lit', 'Kensington and Chelsea', 'Kensington and Chelsea', '524170', '181650', '-0.211708', 'E01002909', '1', '1', '0', '5', 'Metropolitan Police', 'Dry', 'Dual carriageway', 'None', '30', '17:36', 'Urban', 'Fine no high winds', '2005', 'No'], ['200501BS00003', 'C', '0', '', '0', 'Slight', 'None', '06/01/2005', 'Thursday', '1', 'Data missing or out of range', 'Not at junction or within 20 metres', '51.525301', 'Darkness - lights lit', 'Kensington and Chelsea', 'Kensington and Chelsea', '524520', '182240', '-0.206458', 'E01002857', '1', '2', '0', '0', 'Metropolitan Police', 'Dry', 'Single carriageway', 'None', '30', '00:15', 'Urban', 'Fine no high winds', '2005', 'No'], ['200501BS00004', 'A', '3220', '', '0', 'Slight', 'None', '07/01/2005', 'Friday', '1', 'Data missing or out of range', 'Not at junction or within 20 metres', '51.482442', '', 'Kensington and Chelsea', 'Kensington and Chelsea', '526900', '177530', '-0.173862', 'E01002840', '1', '1', '0', '0', 'Metropolitan Police', 'Dry', 'Single carriageway', 'None', '30', '10:35', 'Urban', 'Fine no high winds', '2005', 'No']]\n"
     ]
    }
   ],
   "source": [
    "print(rows[:5])"
   ]
  },
  {
   "cell_type": "code",
   "execution_count": 4,
   "id": "c26ef005-2934-44e7-922b-2a4752e20869",
   "metadata": {},
   "outputs": [
    {
     "name": "stdout",
     "output_type": "stream",
     "text": [
      "34\n"
     ]
    }
   ],
   "source": [
    "header = rows[0]\n",
    "print(len(header))"
   ]
  },
  {
   "cell_type": "code",
   "execution_count": 5,
   "id": "923dc4c9-bddd-4a87-b066-6e6f001dc65c",
   "metadata": {
    "scrolled": true
   },
   "outputs": [
    {
     "name": "stdout",
     "output_type": "stream",
     "text": [
      "34\n"
     ]
    }
   ],
   "source": [
    "data = rows[1:]\n",
    "print(len(data[0]))"
   ]
  },
  {
   "cell_type": "code",
   "execution_count": 6,
   "id": "32905f62",
   "metadata": {},
   "outputs": [],
   "source": [
    "# function to explore the dataset to find out how many rows and columns there are\n",
    "def explore_dataset(dataset, start, end, rows_columns = False):\n",
    "    dataset_slice = dataset[start:end]\n",
    "    for row in dataset_slice:\n",
    "        print(row)\n",
    "        print(\"\\n\")\n",
    "    if rows_columns:\n",
    "        print(\"Number of rows\",len(dataset))\n",
    "        print(\"Number of columns\", len(dataset[0]))"
   ]
  },
  {
   "cell_type": "code",
   "execution_count": 7,
   "id": "175d0c55",
   "metadata": {},
   "outputs": [
    {
     "name": "stdout",
     "output_type": "stream",
     "text": [
      "['200501BS00001', 'A', '3218', '', '0', 'Serious', 'None', '04/01/2005', 'Tuesday', '1', 'Data missing or out of range', 'Not at junction or within 20 metres', '51.489096', '', 'Kensington and Chelsea', 'Kensington and Chelsea', '525680', '178240', '-0.19117', 'E01002849', '1', '1', '0', '1', 'Metropolitan Police', 'Wet or damp', 'Single carriageway', 'None', '30', '17:42', 'Urban', 'Raining no high winds', '2005', 'No']\n",
      "\n",
      "\n",
      "['200501BS00002', 'B', '450', 'C', '0', 'Slight', 'None', '05/01/2005', 'Wednesday', '1', 'Auto traffic signal', 'Crossroads', '51.520075', 'Darkness - lights lit', 'Kensington and Chelsea', 'Kensington and Chelsea', '524170', '181650', '-0.211708', 'E01002909', '1', '1', '0', '5', 'Metropolitan Police', 'Dry', 'Dual carriageway', 'None', '30', '17:36', 'Urban', 'Fine no high winds', '2005', 'No']\n",
      "\n",
      "\n",
      "['200501BS00003', 'C', '0', '', '0', 'Slight', 'None', '06/01/2005', 'Thursday', '1', 'Data missing or out of range', 'Not at junction or within 20 metres', '51.525301', 'Darkness - lights lit', 'Kensington and Chelsea', 'Kensington and Chelsea', '524520', '182240', '-0.206458', 'E01002857', '1', '2', '0', '0', 'Metropolitan Police', 'Dry', 'Single carriageway', 'None', '30', '00:15', 'Urban', 'Fine no high winds', '2005', 'No']\n",
      "\n",
      "\n",
      "Number of rows 1048575\n",
      "Number of columns 34\n"
     ]
    }
   ],
   "source": [
    "explore_dataset(data, 0,3,True)"
   ]
  },
  {
   "cell_type": "code",
   "execution_count": 8,
   "id": "029c25da",
   "metadata": {},
   "outputs": [],
   "source": [
    "# check for wrong data in my lists of lists\n",
    "def check_wrong_data(mylist):\n",
    "    for row in mylist:\n",
    "        header_length = len(header)\n",
    "        row_length = len(row)\n",
    "        if row_length != header_length:\n",
    "            print(row)\n",
    "            print(data.index(row)) "
   ]
  },
  {
   "cell_type": "code",
   "execution_count": 9,
   "id": "5f7fa661-8c43-4585-9374-ace54a3c3e74",
   "metadata": {},
   "outputs": [],
   "source": [
    "check_wrong_data(data)"
   ]
  },
  {
   "cell_type": "code",
   "execution_count": 10,
   "id": "84441d8f",
   "metadata": {},
   "outputs": [
    {
     "name": "stdout",
     "output_type": "stream",
     "text": [
      "['A', 'B', 'C', '', 'Motorway', 'A(M)']\n"
     ]
    }
   ],
   "source": [
    "roadtypes = []\n",
    "for row in data:\n",
    "    road_type = row[1]\n",
    "    if road_type not in roadtypes:\n",
    "        roadtypes.append(road_type)\n",
    "print(roadtypes)"
   ]
  },
  {
   "cell_type": "code",
   "execution_count": 11,
   "id": "de3ca7d9",
   "metadata": {},
   "outputs": [
    {
     "name": "stdout",
     "output_type": "stream",
     "text": [
      "There are 0 duplicate entries\n"
     ]
    }
   ],
   "source": [
    "# check for duplicates\n",
    "duplicate_entries = []\n",
    "unique_entries = []\n",
    "for row in data:\n",
    "    accident_id = row[0]\n",
    "    if accident_id in unique_entries:\n",
    "        date_day_dicticate_entries.append(accident_id)\n",
    "#     else:\n",
    "#         unique_entries.append(accident_id)\n",
    "# len_unique_entries = len(unique_entries)\n",
    "len_duplicate_entries = len(duplicate_entries)\n",
    "# example_duplicate = duplicate_entries[3:5]\n",
    "# print(\"There are\", len_unique_entries, \"unique entries\")\n",
    "print(\"There are\", len_duplicate_entries, \"duplicate entries\")\n",
    "# print(example_duplicate)\n",
    "#     return len_duplicate_entries, len_unique_entries, example_duplicate\n",
    "# len_duplicate_entries, len_unique_entries, example_duplicate = check_duplicates(data)\n",
    "# print(\n",
    "#     f\"Number of duplicate entries {len_duplicate_entries}\\n\"\n",
    "#     f\"Number of unique entries  {len_unique_entries}\\n\"\n",
    "#     f\"Examples of duplicate entries {example_duplicate}\\n\"\n",
    "#      )"
   ]
  },
  {
   "cell_type": "code",
   "execution_count": 12,
   "id": "518c0e5b",
   "metadata": {},
   "outputs": [],
   "source": [
    "# fill in the empty strings with the string(unknown Data)\n",
    "def fill_missing_strings(i):\n",
    "    for row in data:\n",
    "        col = row[i]\n",
    "        col = col.title()\n",
    "        if not col:\n",
    "            col = \"Unknown Data\"\n",
    "        row[i] = col"
   ]
  },
  {
   "cell_type": "code",
   "execution_count": 13,
   "id": "f38cda63",
   "metadata": {},
   "outputs": [
    {
     "name": "stdout",
     "output_type": "stream",
     "text": [
      "[['200501Bs00003', 'C', '0', 'Unknown Data', '0', 'Slight', 'None', '06/01/2005', 'Thursday', '1', 'Data Missing Or Out Of Range', 'Not At Junction Or Within 20 Metres', '51.525301', 'Darkness - Lights Lit', 'Kensington And Chelsea', 'Kensington And Chelsea', '524520', '182240', '-0.206458', 'E01002857', '1', '2', '0', '0', 'Metropolitan Police', 'Dry', 'Single Carriageway', 'None', '30', '00:15', 'Urban', 'Fine No High Winds', '2005', 'No'], ['200501Bs00004', 'A', '3220', 'Unknown Data', '0', 'Slight', 'None', '07/01/2005', 'Friday', '1', 'Data Missing Or Out Of Range', 'Not At Junction Or Within 20 Metres', '51.482442', 'Unknown Data', 'Kensington And Chelsea', 'Kensington And Chelsea', '526900', '177530', '-0.173862', 'E01002840', '1', '1', '0', '0', 'Metropolitan Police', 'Dry', 'Single Carriageway', 'None', '30', '10:35', 'Urban', 'Fine No High Winds', '2005', 'No'], ['200501Bs00005', 'Unknown Data', '0', 'Unknown Data', '0', 'Slight', 'None', '10/01/2005', 'Monday', '1', 'Data Missing Or Out Of Range', 'Not At Junction Or Within 20 Metres', '51.495752', 'Darkness - Lighting Unknown', 'Kensington And Chelsea', 'Kensington And Chelsea', '528060', '179040', '-0.156618', 'E01002863', '1', '1', '0', '0', 'Metropolitan Police', 'Wet Or Damp', 'Single Carriageway', 'None', '30', '21:13', 'Urban', 'Fine No High Winds', '2005', 'No']]\n"
     ]
    }
   ],
   "source": [
    "for i in range(len(header)):\n",
    "    fill_missing_strings(i)\n",
    "print(data[2:5])"
   ]
  },
  {
   "cell_type": "code",
   "execution_count": 14,
   "id": "424d31c3",
   "metadata": {},
   "outputs": [
    {
     "name": "stdout",
     "output_type": "stream",
     "text": [
      "The index of Date column is  7\n",
      "The index of Time column is  29\n",
      "The index of Year column is  32\n",
      "The index of no. of casualties column is  20\n"
     ]
    }
   ],
   "source": [
    "# get the index of date column\n",
    "print(\"The index of Date column is \",header.index(\"Date\"))\n",
    "print(\"The index of Time column is \",header.index(\"Time\"))\n",
    "print(\"The index of Year column is \",header.index(\"Year\"))\n",
    "print(\"The index of no. of casualties column is \",header.index(\"Number_of_Casualties\"))\n"
   ]
  },
  {
   "cell_type": "code",
   "execution_count": 15,
   "id": "16031250-99c2-4ee1-ac19-f421a7b17d6c",
   "metadata": {},
   "outputs": [
    {
     "name": "stdout",
     "output_type": "stream",
     "text": [
      "<class 'str'>\n"
     ]
    }
   ],
   "source": [
    "for row in data:\n",
    "    myyear = row[32]\n",
    "    mydates = row[7]\n",
    "print(type(myyear))"
   ]
  },
  {
   "cell_type": "code",
   "execution_count": 16,
   "id": "b1a013cc",
   "metadata": {},
   "outputs": [
    {
     "name": "stdout",
     "output_type": "stream",
     "text": [
      "<class 'datetime.date'>\n",
      "<class 'datetime.time'>\n",
      "<class 'int'>\n"
     ]
    }
   ],
   "source": [
    "# parse strings as dates\n",
    "for row in data:\n",
    "    mydates = row[7]\n",
    "    mydates = dt.datetime.strptime(mydates, \"%d/%m/%Y\").date()\n",
    "    row[7] = mydates\n",
    "\n",
    "    mytime = row[29]\n",
    "#     replace Unknown Data Time with 00:00\n",
    "    mytime=mytime.replace(\"Unknown Data\",\"00:00\")\n",
    "    mytime = dt.datetime.strptime(mytime, \"%H:%M\").time()\n",
    "    row[29] = mytime\n",
    "    \n",
    "    myyear = row[32]\n",
    "    myyear = dt.datetime.strptime(myyear, \"%Y\").year\n",
    "    row[32] = myyear\n",
    "    \n",
    "print(type(row[7]))\n",
    "print(type(row[29]))\n",
    "print(type(row[32]))"
   ]
  },
  {
   "cell_type": "code",
   "execution_count": 17,
   "id": "4ee98f72",
   "metadata": {},
   "outputs": [
    {
     "name": "stdout",
     "output_type": "stream",
     "text": [
      "1048575\n",
      "1048575\n",
      "{datetime.date(2005, 1, 4): 'Tuesday', datetime.date(2005, 1, 5): 'Wednesday', datetime.date(2005, 1, 6): 'Thursday', datetime.date(2005, 1, 7): 'Friday'}\n",
      "[{'Date': datetime.date(2005, 1, 6), 'Day Of Week': 'Thursday'}, {'Date': datetime.date(2005, 1, 7), 'Day Of Week': 'Friday'}, {'Date': datetime.date(2005, 1, 10), 'Day Of Week': 'Monday'}]\n"
     ]
    }
   ],
   "source": [
    "dates_1 = []\n",
    "day_1 = []\n",
    "for row in data:    \n",
    "    mydate = row[7]\n",
    "    dates_1.append(mydate)\n",
    "    day_of_week = row[8]\n",
    "    day_1.append(day_of_week)\n",
    "print(len(dates_1))\n",
    "print(len(day_1))\n",
    "\n",
    "# Using the `zip` function to combine the two lists into a list of tuples\n",
    "date_data = list(zip(dates_1, day_1))\n",
    "\n",
    "# Converting the list of tuples to a dictionary\n",
    "date_dict = dict(date_data)\n",
    "# print the first few elements of the dictionary \n",
    "first_five = dict(list(date_dict.items())[:4])\n",
    "\n",
    "print(first_five)\n",
    "\n",
    "# Converting the dictionary to a list of dictionaries\n",
    "dict_list = [{'Date': key, 'Day Of Week': value} for key, value in date_dict.items()]\n",
    "print(dict_list[2:5])"
   ]
  },
  {
   "cell_type": "code",
   "execution_count": 18,
   "id": "346dc80a",
   "metadata": {
    "scrolled": true
   },
   "outputs": [
    {
     "name": "stdout",
     "output_type": "stream",
     "text": [
      "[['200501Bs70083', 'B', '450', 'Unknown Data', '0', 'Slight', 'None', datetime.date(2005, 3, 17), 'Thursday', '1', 'Data Missing Or Out Of Range', 'Not At Junction Or Within 20 Metres', '51.517263', 'Unknown Data', 'Kensington And Chelsea', 'Kensington And Chelsea', '524290', '181340', '-0.210089', 'E01002831', '1', '1', '0', '4', 'Metropolitan Police', 'Dry', 'Single Carriageway', 'None', '30', datetime.time(9, 15), 'Urban', 'Fine No High Winds', 2005, 'No'], ['200501Bs70084', 'B', '450', 'Unclassified', '0', 'Slight', 'None', datetime.date(2005, 3, 13), 'Sunday', '3', 'Give Way Or Uncontrolled', 'Crossroads', '51.516353', 'Darkness - Lights Lit', 'Kensington And Chelsea', 'Kensington And Chelsea', '524340', '181240', '-0.209404', 'E01002879', '1', '2', '0', '0', 'Metropolitan Police', 'Dry', 'Single Carriageway', 'None', '30', datetime.time(0, 15), 'Urban', 'Fine No High Winds', 2005, 'No'], ['200501Bs70085', 'C', '0', 'Unknown Data', '0', 'Slight', 'None', datetime.date(2005, 3, 15), 'Tuesday', '1', 'Data Missing Or Out Of Range', 'Not At Junction Or Within 20 Metres', '51.524085', 'Unknown Data', 'Kensington And Chelsea', 'Kensington And Chelsea', '523920', '182090', '-0.215155', 'E01002905', '1', '2', '0', '0', 'Metropolitan Police', 'Dry', 'Single Carriageway', 'None', '30', datetime.time(13, 2), 'Urban', 'Fine No High Winds', 2005, 'No'], ['200501Bs70086', 'A', '308', 'C', '0', 'Slight', 'None', datetime.date(2005, 3, 14), 'Monday', '1', 'Auto Traffic Signal', 'Crossroads', '51.486931', 'Darkness - Lights Lit', 'Kensington And Chelsea', 'Kensington And Chelsea', '526520', '178020', '-0.179156', 'E01002911', '1', '2', '0', '5', 'Metropolitan Police', 'Dry', 'Single Carriageway', 'None', '30', datetime.time(20, 0), 'Urban', 'Fine No High Winds', 2005, 'No']]\n"
     ]
    }
   ],
   "source": [
    "print(data[100:104])"
   ]
  },
  {
   "cell_type": "code",
   "execution_count": 24,
   "id": "f0dec654",
   "metadata": {},
   "outputs": [
    {
     "data": {
      "text/plain": [
       "[(datetime.date(2005, 1, 4), 599),\n",
       " (datetime.date(2005, 1, 5), 686),\n",
       " (datetime.date(2005, 1, 6), 710),\n",
       " (datetime.date(2005, 1, 7), 656),\n",
       " (datetime.date(2005, 1, 10), 688)]"
      ]
     },
     "execution_count": 24,
     "metadata": {},
     "output_type": "execute_result"
    }
   ],
   "source": [
    "# which day had the most accidents?\n",
    "result_list = []\n",
    "for row in data:\n",
    "    accident_at = row[7]\n",
    "    no_casualties = int(row[20])\n",
    "    result_list.append([accident_at,no_casualties])\n",
    "accidents_by_day = {}\n",
    "casualties_by_day = {}\n",
    "\n",
    "for result in result_list:\n",
    "    mydates = result[0]\n",
    "    casualties = result[1]\n",
    "    if mydates in accidents_by_day:\n",
    "        accidents_by_day[mydates] += 1\n",
    "        casualties_by_day[mydates] += casualties\n",
    "    else:\n",
    "        accidents_by_day[mydates] = 1\n",
    "        casualties_by_day[mydates] = casualties\n",
    "# first 5 key:value pairs \n",
    "import more_itertools\n",
    "first_few = more_itertools.take(5, casualties_by_day.items())\n",
    "first_few\n",
    "# casualties_by_day"
   ]
  },
  {
   "cell_type": "code",
   "execution_count": 26,
   "id": "ccc4b01e-77a6-44d5-9f29-a6f36057ae7a",
   "metadata": {},
   "outputs": [
    {
     "name": "stdout",
     "output_type": "stream",
     "text": [
      "The most accidents is 1157 and occured on 2005-10-21\n",
      "The least accidents is 235 and occured on 2010-12-25\n"
     ]
    }
   ],
   "source": [
    "# sort to see the when most accidents occured and the least\n",
    "Max_casualties = None\n",
    "Min_casualties = None\n",
    "for key in casualties_by_day:\n",
    "    if Max_casualties is None or casualties_by_day[key] > Max_casualties:\n",
    "        Max_casualties = casualties_by_day[key]\n",
    "    if Min_casualties is None or casualties_by_day[key] < Max_casualties:\n",
    "        Min_casualties = casualties_by_day[key]\n",
    "most_date = None\n",
    "least_date = None\n",
    "for key in casualties_by_day:\n",
    "    if casualties_by_day[key] == Max_casualties:\n",
    "        most_date = key\n",
    "    if casualties_by_day[key] == Min_casualties:\n",
    "        least_date = key\n",
    "        \n",
    "print(\"The most accidents is {} and occured on {}\".format(Max_casualties,most_date))\n",
    "print(\"The least accidents is {} and occured on {}\".format(Min_casualties,least_date))   "
   ]
  },
  {
   "cell_type": "code",
   "execution_count": null,
   "id": "b0200b5f",
   "metadata": {},
   "outputs": [],
   "source": []
  }
 ],
 "metadata": {
  "kernelspec": {
   "display_name": "Python 3 (ipykernel)",
   "language": "python",
   "name": "python3"
  },
  "language_info": {
   "codemirror_mode": {
    "name": "ipython",
    "version": 3
   },
   "file_extension": ".py",
   "mimetype": "text/x-python",
   "name": "python",
   "nbconvert_exporter": "python",
   "pygments_lexer": "ipython3",
   "version": "3.9.12"
  }
 },
 "nbformat": 4,
 "nbformat_minor": 5
}
