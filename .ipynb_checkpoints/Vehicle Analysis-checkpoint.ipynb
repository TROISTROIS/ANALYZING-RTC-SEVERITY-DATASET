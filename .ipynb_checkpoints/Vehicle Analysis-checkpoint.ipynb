{
 "cells": [
  {
   "cell_type": "markdown",
   "id": "fd654acd",
   "metadata": {},
   "source": [
    "# ANALYZING RTC SEVERITY DATASET\n",
    "In this project, we are analyzing rioad accident data in order to answer the following questions:\n",
    "1. What is the Age_of_Vehicle with the most/least accidents?\n",
    "2. Which Age_Band_of_Driver has recorded the most/least accidents?\n",
    "3. Which make had the most/least accidents ?\n",
    "4. Which model has the most accidents ?\n",
    "5. Which vehicles under different propulsion codes have the most/least accidents?\n",
    "6. Are there specific Vehicle_Types that are prone to accidents ?\n",
    "7. How many accidents are recorded in different Driver_Home_Area_Types?\n",
    "8. Driving at which speed limit leads to accidents ?\n",
    "9. How many accidents are caused by female/male drivers?"
   ]
  },
  {
   "cell_type": "code",
   "execution_count": 1,
   "id": "79d2c7de",
   "metadata": {},
   "outputs": [],
   "source": [
    "import csv\n",
    "import datetime as dt\n",
    "import more_itertools\n",
    "import locale\n",
    "import chardet"
   ]
  },
  {
   "cell_type": "code",
   "execution_count": 2,
   "id": "ddb7cccf",
   "metadata": {},
   "outputs": [
    {
     "name": "stdout",
     "output_type": "stream",
     "text": [
      "ascii\n"
     ]
    }
   ],
   "source": [
    "# get the encoding by reading the first ten lines\n",
    "with open(\"C://Users//user//I am learning ML//Analyzing RTC Severity Dataset//vehicle_data.csv\", mode='rb') as file:\n",
    "    raw_bytes = file.read(10)\n",
    "    detected_encoding = chardet.detect(raw_bytes)['encoding']\n",
    "    print(detected_encoding)"
   ]
  },
  {
   "cell_type": "code",
   "execution_count": 3,
   "id": "04100f57",
   "metadata": {},
   "outputs": [
    {
     "name": "stdout",
     "output_type": "stream",
     "text": [
      "cp1252\n"
     ]
    }
   ],
   "source": [
    "print(locale.getpreferredencoding())"
   ]
  },
  {
   "cell_type": "markdown",
   "id": "83d955ee",
   "metadata": {},
   "source": [
    "**CP1252** is the encoding used in the file"
   ]
  },
  {
   "cell_type": "markdown",
   "id": "58124f6e",
   "metadata": {},
   "source": [
    "# **CONVERT THE FILE FROM *ASCII* ENCODING TO *UTF-8* ENCODING**"
   ]
  },
  {
   "cell_type": "markdown",
   "id": "ff62648d",
   "metadata": {},
   "source": [
    "## To convert a csv file file from one encoding to another:\n",
    "1. Convert the file from it's current encoding.\n",
    "2. Read the file using **csv.reader()**\n",
    "3. Open the new fike using the desired encoding\n",
    "4. Loop over the rows of the original file and write them into the new one using **csv.writer()** and the **writerow()** method."
   ]
  },
  {
   "cell_type": "code",
   "execution_count": 4,
   "id": "4d0583d6-bde4-43b0-80a2-916ef40aedfe",
   "metadata": {},
   "outputs": [],
   "source": [
    "with open (\"C://Users//user//I am learning ML//Analyzing RTC Severity Dataset//vehicle_data.csv\") as file:\n",
    "    rows = list(csv.reader(file))"
   ]
  },
  {
   "cell_type": "code",
   "execution_count": 5,
   "id": "fe7f01f1",
   "metadata": {
    "scrolled": true
   },
   "outputs": [
    {
     "name": "stdout",
     "output_type": "stream",
     "text": [
      "[['Accident_Index', 'Age_Band_of_Driver', 'Age_of_Vehicle', 'Driver_Home_Area_Type', 'Driver_IMD_Decile', 'Engine_Capacity_.CC.', 'Hit_Object_in_Carriageway', 'Hit_Object_off_Carriageway', 'Journey_Purpose_of_Driver', 'Junction_Location', 'make', 'model', 'Propulsion_Code', 'Sex_of_Driver', 'Skidding_and_Overturning', 'Towing_and_Articulation', 'Vehicle_Leaving_Carriageway', 'Vehicle_Location.Restricted_Lane', 'Vehicle_Manoeuvre', 'Vehicle_Reference', 'Vehicle_Type', 'Was_Vehicle_Left_Hand_Drive', 'X1st_Point_of_Impact', 'Year'], ['200401BS00001', '26 - 35', '3', 'Urban area', '4', '1588', 'None', 'None', 'Data missing or out of range', 'Data missing or out of range', 'ROVER', '45 CLASSIC 16V', 'Petrol', 'Male', 'None', 'No tow/articulation', 'Did not leave carriageway', '0', 'Going ahead other', '2', '109', 'Data missing or out of range', 'Front', '2004'], ['200401BS00002', '26 - 35', 'NA', 'Urban area', '3', 'NA', 'None', 'None', 'Data missing or out of range', 'Data missing or out of range', 'BMW', 'C1', 'NA', 'Male', 'None', 'No tow/articulation', 'Did not leave carriageway', '0', 'Going ahead other', '1', '109', 'Data missing or out of range', 'Front', '2004'], ['200401BS00003', '26 - 35', '4', 'Data missing or out of range', 'NA', '998', 'None', 'None', 'Data missing or out of range', 'Data missing or out of range', 'NISSAN', 'MICRA CELEBRATION 16V', 'Petrol', 'Male', 'None', 'No tow/articulation', 'Did not leave carriageway', '0', 'Turning right', '1', '109', 'Data missing or out of range', 'Front', '2004'], ['200401BS00003', '66 - 75', 'NA', 'Data missing or out of range', 'NA', 'NA', 'None', 'None', 'Data missing or out of range', 'Data missing or out of range', 'LONDON TAXIS INT', 'TXII GOLD AUTO', 'NA', 'Male', 'None', 'No tow/articulation', 'Did not leave carriageway', '0', 'Going ahead other', '2', '109', 'Data missing or out of range', 'Front', '2004'], ['200401BS00004', '26 - 35', '1', 'Urban area', '4', '124', 'None', 'None', 'Data missing or out of range', 'Data missing or out of range', 'PIAGGIO', 'VESPA ET4', 'Petrol', 'Male', 'None', 'No tow/articulation', 'Did not leave carriageway', '0', 'Going ahead other', '1', 'Motorcycle 125cc and under', 'Data missing or out of range', 'Front', '2004'], ['200401BS00004', '36 - 45', '10', 'Data missing or out of range', 'NA', '1781', 'None', 'None', 'Data missing or out of range', 'Data missing or out of range', 'VOLKSWAGEN', '', 'Petrol', 'Male', 'None', 'No tow/articulation', 'Did not leave carriageway', '0', 'U-turn', '2', '109', 'Data missing or out of range', 'Offside', '2004'], ['200401BS00009', '26 - 35', 'NA', 'Urban area', '4', 'NA', 'None', 'None', 'Data missing or out of range', 'Data missing or out of range', 'PIAGGIO', 'VESPA GT 125', 'NA', 'Male', 'Skidded', 'No tow/articulation', 'Did not leave carriageway', '0', 'Going ahead other', '1', 'Motorcycle 125cc and under', 'Data missing or out of range', 'Did not impact', '2004'], ['200401BS00010', '36 - 45', 'NA', 'Urban area', '8', 'NA', 'None', 'None', 'Data missing or out of range', 'Data missing or out of range', 'BMW', 'R1100 RT', 'NA', 'Male', 'None', 'No tow/articulation', 'Did not leave carriageway', '0', 'Turning right', '1', '109', 'Data missing or out of range', 'Front', '2004'], ['200401BS00012', '46 - 55', '3', 'Data missing or out of range', 'NA', '2685', 'None', 'None', 'Data missing or out of range', 'Data missing or out of range', 'MERCEDES', '', 'Heavy oil', 'Male', 'None', 'No tow/articulation', 'Did not leave carriageway', '0', 'Slowing or stopping', '1', '109', 'Data missing or out of range', 'Back', '2004']]\n"
     ]
    }
   ],
   "source": [
    "print(rows[:10])"
   ]
  },
  {
   "cell_type": "code",
   "execution_count": 6,
   "id": "c26ef005-2934-44e7-922b-2a4752e20869",
   "metadata": {},
   "outputs": [
    {
     "name": "stdout",
     "output_type": "stream",
     "text": [
      "24\n"
     ]
    }
   ],
   "source": [
    "header = rows[0]\n",
    "print(len(header))"
   ]
  },
  {
   "cell_type": "code",
   "execution_count": 7,
   "id": "923dc4c9-bddd-4a87-b066-6e6f001dc65c",
   "metadata": {
    "scrolled": true
   },
   "outputs": [
    {
     "name": "stdout",
     "output_type": "stream",
     "text": [
      "24\n"
     ]
    }
   ],
   "source": [
    "data = rows[1:]\n",
    "print(len(data[0]))"
   ]
  },
  {
   "cell_type": "markdown",
   "id": "3e5ff55a",
   "metadata": {},
   "source": [
    "# EXPLORE THE DATASET"
   ]
  },
  {
   "cell_type": "code",
   "execution_count": 8,
   "id": "32905f62",
   "metadata": {},
   "outputs": [],
   "source": [
    "# function to explore the dataset to find out how many rows and columns there are\n",
    "def explore_dataset(dataset, start, end, rows_columns = False):\n",
    "    dataset_slice = dataset[start:end]\n",
    "    for row in dataset_slice:\n",
    "        print(row)\n",
    "        print(\"\\n\")\n",
    "    if rows_columns:\n",
    "        print(\"Number of rows\",len(dataset))\n",
    "        print(\"Number of columns\", len(dataset[0]))"
   ]
  },
  {
   "cell_type": "code",
   "execution_count": 9,
   "id": "175d0c55",
   "metadata": {},
   "outputs": [
    {
     "name": "stdout",
     "output_type": "stream",
     "text": [
      "['200401BS00001', '26 - 35', '3', 'Urban area', '4', '1588', 'None', 'None', 'Data missing or out of range', 'Data missing or out of range', 'ROVER', '45 CLASSIC 16V', 'Petrol', 'Male', 'None', 'No tow/articulation', 'Did not leave carriageway', '0', 'Going ahead other', '2', '109', 'Data missing or out of range', 'Front', '2004']\n",
      "\n",
      "\n",
      "['200401BS00002', '26 - 35', 'NA', 'Urban area', '3', 'NA', 'None', 'None', 'Data missing or out of range', 'Data missing or out of range', 'BMW', 'C1', 'NA', 'Male', 'None', 'No tow/articulation', 'Did not leave carriageway', '0', 'Going ahead other', '1', '109', 'Data missing or out of range', 'Front', '2004']\n",
      "\n",
      "\n",
      "['200401BS00003', '26 - 35', '4', 'Data missing or out of range', 'NA', '998', 'None', 'None', 'Data missing or out of range', 'Data missing or out of range', 'NISSAN', 'MICRA CELEBRATION 16V', 'Petrol', 'Male', 'None', 'No tow/articulation', 'Did not leave carriageway', '0', 'Turning right', '1', '109', 'Data missing or out of range', 'Front', '2004']\n",
      "\n",
      "\n",
      "['200401BS00003', '66 - 75', 'NA', 'Data missing or out of range', 'NA', 'NA', 'None', 'None', 'Data missing or out of range', 'Data missing or out of range', 'LONDON TAXIS INT', 'TXII GOLD AUTO', 'NA', 'Male', 'None', 'No tow/articulation', 'Did not leave carriageway', '0', 'Going ahead other', '2', '109', 'Data missing or out of range', 'Front', '2004']\n",
      "\n",
      "\n",
      "['200401BS00004', '26 - 35', '1', 'Urban area', '4', '124', 'None', 'None', 'Data missing or out of range', 'Data missing or out of range', 'PIAGGIO', 'VESPA ET4', 'Petrol', 'Male', 'None', 'No tow/articulation', 'Did not leave carriageway', '0', 'Going ahead other', '1', 'Motorcycle 125cc and under', 'Data missing or out of range', 'Front', '2004']\n",
      "\n",
      "\n",
      "Number of rows 2177205\n",
      "Number of columns 24\n"
     ]
    }
   ],
   "source": [
    "explore_dataset(data, 0,5,True)"
   ]
  },
  {
   "cell_type": "markdown",
   "id": "dc0e05f5",
   "metadata": {},
   "source": [
    "# CHECK FOR WRONG DATA"
   ]
  },
  {
   "cell_type": "code",
   "execution_count": 10,
   "id": "029c25da",
   "metadata": {},
   "outputs": [
    {
     "name": "stdout",
     "output_type": "stream",
     "text": [
      "['200401BS00001', '26 - 35', '3', 'Urban area', '4', '1588', 'None', 'None', 'Data missing or out of range', 'Data missing or out of range', 'ROVER', '45 CLASSIC 16V', 'Petrol', 'Male', 'None', 'No tow/articulation', 'Did not leave carriageway', '0', 'Going ahead other', '2', '109', 'Data missing or out of range', 'Front', '2004']\n",
      "\n",
      "\n",
      "['200401BS00002', '26 - 35', 'NA', 'Urban area', '3', 'NA', 'None', 'None', 'Data missing or out of range', 'Data missing or out of range', 'BMW', 'C1', 'NA', 'Male', 'None', 'No tow/articulation', 'Did not leave carriageway', '0', 'Going ahead other', '1', '109', 'Data missing or out of range', 'Front', '2004']\n",
      "\n",
      "\n",
      "['200401BS00003', '26 - 35', '4', 'Data missing or out of range', 'NA', '998', 'None', 'None', 'Data missing or out of range', 'Data missing or out of range', 'NISSAN', 'MICRA CELEBRATION 16V', 'Petrol', 'Male', 'None', 'No tow/articulation', 'Did not leave carriageway', '0', 'Turning right', '1', '109', 'Data missing or out of range', 'Front', '2004']\n",
      "\n",
      "\n",
      "['200401BS00003', '66 - 75', 'NA', 'Data missing or out of range', 'NA', 'NA', 'None', 'None', 'Data missing or out of range', 'Data missing or out of range', 'LONDON TAXIS INT', 'TXII GOLD AUTO', 'NA', 'Male', 'None', 'No tow/articulation', 'Did not leave carriageway', '0', 'Going ahead other', '2', '109', 'Data missing or out of range', 'Front', '2004']\n",
      "\n",
      "\n",
      "['200401BS00004', '26 - 35', '1', 'Urban area', '4', '124', 'None', 'None', 'Data missing or out of range', 'Data missing or out of range', 'PIAGGIO', 'VESPA ET4', 'Petrol', 'Male', 'None', 'No tow/articulation', 'Did not leave carriageway', '0', 'Going ahead other', '1', 'Motorcycle 125cc and under', 'Data missing or out of range', 'Front', '2004']\n",
      "\n",
      "\n",
      "Number of rows 2177205\n",
      "Number of columns 24\n"
     ]
    }
   ],
   "source": [
    "# Remove empty lists\n",
    "data = [sublist for sublist in data if sublist]\n",
    "explore_dataset(data, 0,5,True)"
   ]
  },
  {
   "cell_type": "code",
   "execution_count": 11,
   "id": "ca6cef42",
   "metadata": {},
   "outputs": [
    {
     "name": "stdout",
     "output_type": "stream",
     "text": [
      "24\n"
     ]
    }
   ],
   "source": [
    "print(len(data[0]))"
   ]
  },
  {
   "cell_type": "markdown",
   "id": "660054c1",
   "metadata": {},
   "source": [
    "# CHECK FOR DUPLICATES"
   ]
  },
  {
   "cell_type": "code",
   "execution_count": 12,
   "id": "de3ca7d9",
   "metadata": {},
   "outputs": [
    {
     "name": "stdout",
     "output_type": "stream",
     "text": [
      "There are 0 duplicate entries\n"
     ]
    }
   ],
   "source": [
    "# check for duplicates\n",
    "duplicate_entries = []\n",
    "unique_entries = []\n",
    "for row in data:\n",
    "    accident_id = row[0]\n",
    "    if accident_id in unique_entries:\n",
    "        date_day_dicticate_entries.append(accident_id)\n",
    "#     else:\n",
    "#         unique_entries.append(accident_id)\n",
    "# len_unique_entries = len(unique_entries)\n",
    "len_duplicate_entries = len(duplicate_entries)\n",
    "# example_duplicate = duplicate_entries[3:5]\n",
    "# print(\"There are\", len_unique_entries, \"unique entries\")\n",
    "print(\"There are\", len_duplicate_entries, \"duplicate entries\")\n",
    "# print(example_duplicate)\n",
    "#     return len_duplicate_entries, len_unique_entries, example_duplicate\n",
    "# len_duplicate_entries, len_unique_entries, example_duplicate = check_duplicates(data)\n",
    "# print(\n",
    "#     f\"Number of duplicate entries {len_duplicate_entries}\\n\"\n",
    "#     f\"Number of unique entries  {len_unique_entries}\\n\"\n",
    "#     f\"Examples of duplicate entries {example_duplicate}\\n\"\n",
    "#      )"
   ]
  },
  {
   "cell_type": "markdown",
   "id": "68ce57c1",
   "metadata": {},
   "source": [
    "# REPLACE MISSING STRINGS WITH \"UNKNOWN DATA\""
   ]
  },
  {
   "cell_type": "code",
   "execution_count": 13,
   "id": "518c0e5b",
   "metadata": {},
   "outputs": [],
   "source": [
    "# fill in the empty strings with the string(unknown Data)\n",
    "def fill_missing_strings(i):\n",
    "    for row in data:\n",
    "        col = row[i]\n",
    "        col = col.title()\n",
    "        if not col:\n",
    "            col = \"Unknown Data\"\n",
    "        row[i] = col"
   ]
  },
  {
   "cell_type": "code",
   "execution_count": 14,
   "id": "f38cda63",
   "metadata": {},
   "outputs": [
    {
     "name": "stdout",
     "output_type": "stream",
     "text": [
      "[['200401Bs00003', '26 - 35', '4', 'Data Missing Or Out Of Range', 'Na', '998', 'None', 'None', 'Data Missing Or Out Of Range', 'Data Missing Or Out Of Range', 'Nissan', 'Micra Celebration 16V', 'Petrol', 'Male', 'None', 'No Tow/Articulation', 'Did Not Leave Carriageway', '0', 'Turning Right', '1', '109', 'Data Missing Or Out Of Range', 'Front', '2004'], ['200401Bs00003', '66 - 75', 'Na', 'Data Missing Or Out Of Range', 'Na', 'Na', 'None', 'None', 'Data Missing Or Out Of Range', 'Data Missing Or Out Of Range', 'London Taxis Int', 'Txii Gold Auto', 'Na', 'Male', 'None', 'No Tow/Articulation', 'Did Not Leave Carriageway', '0', 'Going Ahead Other', '2', '109', 'Data Missing Or Out Of Range', 'Front', '2004'], ['200401Bs00004', '26 - 35', '1', 'Urban Area', '4', '124', 'None', 'None', 'Data Missing Or Out Of Range', 'Data Missing Or Out Of Range', 'Piaggio', 'Vespa Et4', 'Petrol', 'Male', 'None', 'No Tow/Articulation', 'Did Not Leave Carriageway', '0', 'Going Ahead Other', '1', 'Motorcycle 125Cc And Under', 'Data Missing Or Out Of Range', 'Front', '2004']]\n"
     ]
    }
   ],
   "source": [
    "for i in range(len(header)):\n",
    "    fill_missing_strings(i)\n",
    "print(data[2:5])"
   ]
  },
  {
   "cell_type": "code",
   "execution_count": 15,
   "id": "424d31c3",
   "metadata": {},
   "outputs": [
    {
     "name": "stdout",
     "output_type": "stream",
     "text": [
      "{'Accident_Index': 0, 'Age_Band_of_Driver': 1, 'Age_of_Vehicle': 2, 'Driver_Home_Area_Type': 3, 'Driver_IMD_Decile': 4, 'Engine_Capacity_.CC.': 5, 'Hit_Object_in_Carriageway': 6, 'Hit_Object_off_Carriageway': 7, 'Journey_Purpose_of_Driver': 8, 'Junction_Location': 9, 'make': 10, 'model': 11, 'Propulsion_Code': 12, 'Sex_of_Driver': 13, 'Skidding_and_Overturning': 14, 'Towing_and_Articulation': 15, 'Vehicle_Leaving_Carriageway': 16, 'Vehicle_Location.Restricted_Lane': 17, 'Vehicle_Manoeuvre': 18, 'Vehicle_Reference': 19, 'Vehicle_Type': 20, 'Was_Vehicle_Left_Hand_Drive': 21, 'X1st_Point_of_Impact': 22, 'Year': 23}\n"
     ]
    }
   ],
   "source": [
    "# get the index of date column\n",
    "col_index = {}\n",
    "for i in range(len(header)):\n",
    "    col_index[header[i]] = i\n",
    "print(col_index)"
   ]
  },
  {
   "cell_type": "code",
   "execution_count": 16,
   "id": "16031250-99c2-4ee1-ac19-f421a7b17d6c",
   "metadata": {},
   "outputs": [
    {
     "name": "stdout",
     "output_type": "stream",
     "text": [
      "<class 'str'>\n"
     ]
    }
   ],
   "source": [
    "for row in data:\n",
    "    myyear = row[23]\n",
    "print(type(myyear))"
   ]
  },
  {
   "cell_type": "markdown",
   "id": "670dfed6",
   "metadata": {},
   "source": [
    "# PARSE YEAR AS YEAR"
   ]
  },
  {
   "cell_type": "code",
   "execution_count": 17,
   "id": "b1a013cc",
   "metadata": {},
   "outputs": [],
   "source": [
    "# # parse strings as dates\n",
    "# for row in data:\n",
    "#     myyear = row[23]\n",
    "#     myyear = dt.datetime.strptime(myyear, \"%Y\").year\n",
    "#     row[23] = myyear\n",
    "# print(type(row[23]))"
   ]
  },
  {
   "cell_type": "code",
   "execution_count": 18,
   "id": "346dc80a",
   "metadata": {
    "scrolled": true
   },
   "outputs": [
    {
     "name": "stdout",
     "output_type": "stream",
     "text": [
      "[['200401Bs00195', '56 - 65', '6', 'Urban Area', '6', '2435', 'None', 'None', 'Data Missing Or Out Of Range', 'Data Missing Or Out Of Range', 'Volvo', 'V70 Xlt 20V Auto', 'Petrol', 'Female', 'None', 'No Tow/Articulation', 'Did Not Leave Carriageway', '0', 'Going Ahead Other', '1', '109', 'Data Missing Or Out Of Range', 'Front', '2004'], ['200401Bs00197', '36 - 45', '3', 'Urban Area', '6', '599', 'Kerb', 'None', 'Data Missing Or Out Of Range', 'Data Missing Or Out Of Range', 'Kawasaki', 'Unknown Data', 'Petrol', 'Male', 'Skidded', 'No Tow/Articulation', 'Offside', '0', 'Going Ahead Other', '1', '106', 'Data Missing Or Out Of Range', 'Front', '2004'], ['200401Bs00197', '26 - 35', '8', 'Urban Area', '3', '2316', 'None', 'None', 'Data Missing Or Out Of Range', 'Data Missing Or Out Of Range', 'Volvo', '940 Gle Turbo Auto', 'Petrol', 'Female', 'None', 'No Tow/Articulation', 'Did Not Leave Carriageway', '0', 'Turning Right', '2', '109', 'Data Missing Or Out Of Range', 'Offside', '2004'], ['200401Bs00198', '21 - 25', '11', 'Urban Area', '2', '954', 'None', 'None', 'Data Missing Or Out Of Range', 'Data Missing Or Out Of Range', 'Citroen', 'Ax Salsa', 'Petrol', 'Female', 'None', 'No Tow/Articulation', 'Did Not Leave Carriageway', '0', 'Going Ahead Other', '2', '109', 'Data Missing Or Out Of Range', 'Nearside', '2004']]\n"
     ]
    }
   ],
   "source": [
    "print(data[100:104])"
   ]
  },
  {
   "cell_type": "markdown",
   "id": "6b6f6e95",
   "metadata": {},
   "source": [
    "# ANALYSIS "
   ]
  },
  {
   "cell_type": "markdown",
   "id": "5dca3b7f",
   "metadata": {},
   "source": [
    "# 1. HOW OLD ARE THE VEHICLES THAT GET INTO ACCIDENTS?"
   ]
  },
  {
   "cell_type": "code",
   "execution_count": 19,
   "id": "58b9ff34",
   "metadata": {},
   "outputs": [
    {
     "name": "stdout",
     "output_type": "stream",
     "text": [
      "{'Accident_Index': 0, 'Age_Band_of_Driver': 1, 'Age_of_Vehicle': 2, 'Driver_Home_Area_Type': 3, 'Driver_IMD_Decile': 4, 'Engine_Capacity_.CC.': 5, 'Hit_Object_in_Carriageway': 6, 'Hit_Object_off_Carriageway': 7, 'Journey_Purpose_of_Driver': 8, 'Junction_Location': 9, 'make': 10, 'model': 11, 'Propulsion_Code': 12, 'Sex_of_Driver': 13, 'Skidding_and_Overturning': 14, 'Towing_and_Articulation': 15, 'Vehicle_Leaving_Carriageway': 16, 'Vehicle_Location.Restricted_Lane': 17, 'Vehicle_Manoeuvre': 18, 'Vehicle_Reference': 19, 'Vehicle_Type': 20, 'Was_Vehicle_Left_Hand_Drive': 21, 'X1st_Point_of_Impact': 22, 'Year': 23}\n"
     ]
    }
   ],
   "source": [
    "# get the index of date column\n",
    "col_index = {}\n",
    "for i in range(len(header)):\n",
    "    col_index[header[i]] = i\n",
    "print(col_index)"
   ]
  },
  {
   "cell_type": "code",
   "execution_count": 22,
   "id": "2ef2c340",
   "metadata": {},
   "outputs": [],
   "source": [
    "def how_many(dataset):\n",
    "    result_list = []\n",
    "    for row in data:\n",
    "        age_driver = row[1]\n",
    "        age_vehicle = str(row[2])\n",
    "        vehicle_type = row[20]\n",
    "        year = row[-1]\n",
    "        result_list.append([age_driver,age_vehicle,vehicle_type,year])\n",
    "\n",
    "    driver_age = {}\n",
    "    vehicle_age = {}\n",
    "    vehicle = {}\n",
    "    my_year = {}\n",
    "    for result in result_list:\n",
    "        age_d = result[0]\n",
    "        age_v = result[1]\n",
    "        vehicle_t = result[2]\n",
    "        y = result[3]\n",
    " \n",
    "        if age_d in driver_age:\n",
    "            driver_age[age_d] += 1\n",
    "        else:\n",
    "            driver_age[age_d] = 1\n",
    "        if age_v in vehicle_age:\n",
    "            vehicle_age[age_v] += 1\n",
    "        else:\n",
    "            vehicle_age[age_v] = 1\n",
    "        if vehicle_t in vehicle:\n",
    "            vehicle[vehicle_t] += 1\n",
    "        else:\n",
    "            vehicle[vehicle_t] = 1\n",
    "        if y in my_year:\n",
    "            my_year[y] += 1\n",
    "        else:\n",
    "            my_year[y] = 1\n",
    "            \n",
    "    return driver_age, vehicle_age, vehicle, my_year\n",
    "driver_age, vehicle_age, vehicle, my_year = how_many(data)\n",
    "\n",
    "def print_first_few_data(dictionary):\n",
    "    # first 5 key:value pairs\n",
    "    first_few = more_itertools.take(10, dictionary.items())\n",
    "    return first_few\n",
    "\n",
    "def sorted_values(dictionary):\n",
    "    # sort the dictionary to get it in descending order\n",
    "    #sort to see the when most accidents occured and the least\n",
    "    sorted_dict = dict(sorted(dictionary.items(), reverse = True, key=lambda item: item[1]))\n",
    "    sorted_dict1 = print_first_few_data(sorted_dict)\n",
    "    return sorted_dict1        "
   ]
  },
  {
   "cell_type": "code",
   "execution_count": 23,
   "id": "2e1aa8b7",
   "metadata": {},
   "outputs": [
    {
     "name": "stdout",
     "output_type": "stream",
     "text": [
      "Accidents from age bands: \n",
      "  [('26 - 35', 450531), ('66 - 75', 91454), ('36 - 45', 435686), ('46 - 55', 348762), ('21 - 25', 238765), ('Data Missing Or Out Of Range', 171052), ('16 - 20', 175874), ('56 - 65', 206181), ('Over 75', 54236), ('11 - 15', 3655)]\n",
      "Accidents from age of vehicles: \n",
      "  [('3', 148665), ('Na', 358149), ('4', 144493), ('1', 180333), ('10', 113461), ('2', 161072), ('11', 100439), ('6', 134524), ('9', 121279), ('5', 138464)]\n",
      "The first ten vehicles: \n",
      "  [('109', 82920), ('Motorcycle 125Cc And Under', 61600), ('Van / Goods 3.5 Tonnes Mgw Or Under', 117427), ('Bus Or Coach (17 Or More Pass Seats)', 76757), ('Goods 7.5 Tonnes Mgw And Over', 55426), ('108', 1334), ('Motorcycle 50Cc And Under', 22415), ('106', 7568), ('Other Vehicle', 13994), ('Goods Over 3.5T. And Under 7.5T', 18236)]\n",
      "The first ten accidents per year are: \n",
      "  [('2004', 118797), ('2005', 112288), ('2006', 115017), ('2007', 127172), ('2008', 122445), ('2009', 182321), ('2010', 180367), ('2011', 180616), ('2012', 173859), ('2013', 171625)]\n",
      "Accidents from age bands in ascending order:\n",
      " [('26 - 35', 450531), ('36 - 45', 435686), ('46 - 55', 348762), ('21 - 25', 238765), ('56 - 65', 206181), ('16 - 20', 175874), ('Data Missing Or Out Of Range', 171052), ('66 - 75', 91454), ('Over 75', 54236), ('11 - 15', 3655)]\n",
      "Accidents from age of vehicles in ascending order:\n",
      " [('Na', 358149), ('1', 180333), ('2', 161072), ('3', 148665), ('4', 144493), ('5', 138464), ('6', 134524), ('7', 130114), ('8', 127441), ('9', 121279)]\n",
      "The first ten vehicle types in ascending order:\n",
      " [('Car', 1528628), ('Van / Goods 3.5 Tonnes Mgw Or Under', 117427), ('109', 82920), ('Bus Or Coach (17 Or More Pass Seats)', 76757), ('Motorcycle Over 500Cc', 71472), ('Motorcycle 125Cc And Under', 61600), ('Goods 7.5 Tonnes Mgw And Over', 55426), ('Taxi/Private Hire Car', 43781), ('Pedal Cycle', 38904), ('Motorcycle 50Cc And Under', 22415)]\n",
      "The sorted number of accidents per year are: \n",
      "  [('2015', 257845), ('2016', 252500), ('2014', 182353), ('2009', 182321), ('2011', 180616), ('2010', 180367), ('2012', 173859), ('2013', 171625), ('2007', 127172), ('2008', 122445)]\n"
     ]
    }
   ],
   "source": [
    "print(\"Accidents from age bands: \\n \", print_first_few_data(driver_age))\n",
    "print(\"Accidents from age of vehicles: \\n \", print_first_few_data(vehicle_age))\n",
    "print(\"The first ten vehicles: \\n \", print_first_few_data(vehicle))\n",
    "print(\"The first ten accidents per year are: \\n \", print_first_few_data(my_year))\n",
    "print(\"Accidents from age bands in ascending order:\\n\", sorted_values(driver_age ))\n",
    "print(\"Accidents from age of vehicles in ascending order:\\n\", sorted_values(vehicle_age))\n",
    "print(\"The first ten vehicle types in ascending order:\\n\", sorted_values(vehicle))\n",
    "print(\"The sorted number of accidents per year are: \\n \", sorted_values(my_year))"
   ]
  },
  {
   "cell_type": "markdown",
   "id": "dd87e176-4967-468e-8514-e91ec5bd8f86",
   "metadata": {},
   "source": [
    "# RESULTS"
   ]
  },
  {
   "cell_type": "markdown",
   "id": "b6e09835-abb8-43aa-bc26-acc5b5dec83a",
   "metadata": {},
   "source": [
    "1. Newer vehicles get involved in more accidents\n",
    "2. Most accidents are caused by cars.\n",
    "3. 2015 had the most accidents.\n",
    "4. Most recorded accidents were caused by drivers aged between 26 and 35."
   ]
  },
  {
   "cell_type": "code",
   "execution_count": null,
   "id": "d8afdcd6-c4f6-41ca-8525-e7891124ea0c",
   "metadata": {},
   "outputs": [],
   "source": []
  }
 ],
 "metadata": {
  "kernelspec": {
   "display_name": "Python 3 (ipykernel)",
   "language": "python",
   "name": "python3"
  },
  "language_info": {
   "codemirror_mode": {
    "name": "ipython",
    "version": 3
   },
   "file_extension": ".py",
   "mimetype": "text/x-python",
   "name": "python",
   "nbconvert_exporter": "python",
   "pygments_lexer": "ipython3",
   "version": "3.9.12"
  },
  "toc-showcode": true,
  "toc-showmarkdowntxt": true
 },
 "nbformat": 4,
 "nbformat_minor": 5
}
